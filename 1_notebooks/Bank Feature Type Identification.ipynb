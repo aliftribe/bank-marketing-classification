{
 "cells": [
  {
   "cell_type": "code",
   "execution_count": 1,
   "id": "93438e21-ca94-413b-9999-efb824979c74",
   "metadata": {},
   "outputs": [
    {
     "name": "stdout",
     "output_type": "stream",
     "text": [
      "Target column: y\n",
      "\n",
      "Numerical features:\n",
      "['age', 'balance', 'day', 'duration', 'campaign', 'pdays', 'previous']\n",
      "\n",
      "All categorical features:\n",
      "['job', 'marital', 'education', 'default', 'housing', 'loan', 'contact', 'month', 'poutcome']\n",
      "\n",
      "Binary categorical (2 classes):\n",
      "['default', 'housing', 'loan']\n",
      "\n",
      "Three-class categorical (3):\n",
      "['marital', 'education', 'contact']\n",
      "\n",
      "Four-class categorical (4):\n",
      "['poutcome']\n",
      "\n",
      "Five-class categorical (5):\n",
      "nothing\n"
     ]
    }
   ],
   "source": [
    "import pandas as pd\n",
    "\n",
    "df = pd.read_csv(\"bank_cleaned.csv\")\n",
    "\n",
    "target_col = 'y'\n",
    "X = df.drop(columns=[target_col]) if target_col in df.columns else df\n",
    "\n",
    "num_cols = X.select_dtypes(include='number').columns.tolist()\n",
    "cat_cols = X.select_dtypes(include='object').columns.tolist()\n",
    "\n",
    "binary_cat  = [col for col in cat_cols if X[col].nunique() == 2]\n",
    "three_class = [col for col in cat_cols if X[col].nunique() == 3]\n",
    "four_class  = [col for col in cat_cols if X[col].nunique() == 4]\n",
    "five_class  = [col for col in cat_cols if X[col].nunique() == 5]\n",
    "\n",
    "def display_group(title, data):\n",
    "    print(f\"\\n{title}:\")\n",
    "    if data:\n",
    "        print(data)\n",
    "    else:\n",
    "        print(\"nothing\")\n",
    "\n",
    "print(f\"Target column: {target_col}\")\n",
    "display_group(\"Numerical features\", num_cols)\n",
    "display_group(\"All categorical features\", cat_cols)\n",
    "display_group(\"Binary categorical (2 classes)\", binary_cat)\n",
    "display_group(\"Three-class categorical (3)\", three_class)\n",
    "display_group(\"Four-class categorical (4)\", four_class)\n",
    "display_group(\"Five-class categorical (5)\", five_class)\n"
   ]
  },
  {
   "cell_type": "code",
   "execution_count": null,
   "id": "815a580f-6b62-438d-a143-5e6422f55666",
   "metadata": {},
   "outputs": [],
   "source": []
  }
 ],
 "metadata": {
  "kernelspec": {
   "display_name": "Python 3 (ipykernel)",
   "language": "python",
   "name": "python3"
  },
  "language_info": {
   "codemirror_mode": {
    "name": "ipython",
    "version": 3
   },
   "file_extension": ".py",
   "mimetype": "text/x-python",
   "name": "python",
   "nbconvert_exporter": "python",
   "pygments_lexer": "ipython3",
   "version": "3.11.8"
  }
 },
 "nbformat": 4,
 "nbformat_minor": 5
}
